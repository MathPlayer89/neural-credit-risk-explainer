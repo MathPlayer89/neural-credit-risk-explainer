{
 "cells": [
  {
   "cell_type": "markdown",
   "id": "1d1500b1-d29e-46b2-b183-0dd23e63f6a4",
   "metadata": {
    "jp-MarkdownHeadingCollapsed": true
   },
   "source": [
    "# Imports"
   ]
  },
  {
   "cell_type": "code",
   "execution_count": 1,
   "id": "a7c2b118-da6f-40fc-93e9-44db0302dff9",
   "metadata": {},
   "outputs": [],
   "source": [
    "# Basics\n",
    "import pandas as pd  # for data manipulation and analysis\n",
    "import numpy as np   # for numerical operations\n",
    "\n",
    "# Sklearn\n",
    "from sklearn.preprocessing import LabelEncoder # Label Encoder\n",
    "from sklearn.model_selection import train_test_split # Split the data into training/validation sets\n",
    "from sklearn.preprocessing import StandardScaler # to scale the features"
   ]
  },
  {
   "cell_type": "markdown",
   "id": "ce5f591e-f871-4397-be17-fea0880422eb",
   "metadata": {
    "jp-MarkdownHeadingCollapsed": true
   },
   "source": [
    "# Load Data"
   ]
  },
  {
   "cell_type": "markdown",
   "id": "03a20bfe-136e-41f9-8555-90fee03f539c",
   "metadata": {},
   "source": [
    "First thing is to load in the data and take a quick peek."
   ]
  },
  {
   "cell_type": "code",
   "execution_count": 2,
   "id": "995ce695-10c2-4117-a266-0ddea1e4e681",
   "metadata": {},
   "outputs": [],
   "source": [
    "# Load the training dataset from the specified path\n",
    "# low_memory=False ensures proper type inference for large files\n",
    "df_train = pd.read_csv(\n",
    "    \"C:/Users/barbe/OneDrive/URI DS Program/566 Advanced Topics in Machine Learning/Project/neural-credit-risk-explainer/data/train.csv\",\n",
    "    low_memory=False\n",
    ")"
   ]
  },
  {
   "cell_type": "markdown",
   "id": "77306e4c-dae6-46c2-ae62-ecd6612d07ad",
   "metadata": {},
   "source": [
    "We set `low_memory=False` since a column was found to have mixed types.\n",
    "- This tells pandas to read the file in chunks and infer types more accurately\n",
    "- This usually resolves the warning without changing anything else."
   ]
  },
  {
   "cell_type": "code",
   "execution_count": 3,
   "id": "7aebac6e-a127-4132-9c9a-88da2d99212b",
   "metadata": {},
   "outputs": [
    {
     "data": {
      "text/html": [
       "<div>\n",
       "<style scoped>\n",
       "    .dataframe tbody tr th:only-of-type {\n",
       "        vertical-align: middle;\n",
       "    }\n",
       "\n",
       "    .dataframe tbody tr th {\n",
       "        vertical-align: top;\n",
       "    }\n",
       "\n",
       "    .dataframe thead th {\n",
       "        text-align: right;\n",
       "    }\n",
       "</style>\n",
       "<table border=\"1\" class=\"dataframe\">\n",
       "  <thead>\n",
       "    <tr style=\"text-align: right;\">\n",
       "      <th></th>\n",
       "      <th>ID</th>\n",
       "      <th>Customer_ID</th>\n",
       "      <th>Month</th>\n",
       "      <th>Name</th>\n",
       "      <th>Age</th>\n",
       "      <th>SSN</th>\n",
       "      <th>Occupation</th>\n",
       "      <th>Annual_Income</th>\n",
       "      <th>Monthly_Inhand_Salary</th>\n",
       "      <th>Num_Bank_Accounts</th>\n",
       "      <th>...</th>\n",
       "      <th>Credit_Mix</th>\n",
       "      <th>Outstanding_Debt</th>\n",
       "      <th>Credit_Utilization_Ratio</th>\n",
       "      <th>Credit_History_Age</th>\n",
       "      <th>Payment_of_Min_Amount</th>\n",
       "      <th>Total_EMI_per_month</th>\n",
       "      <th>Amount_invested_monthly</th>\n",
       "      <th>Payment_Behaviour</th>\n",
       "      <th>Monthly_Balance</th>\n",
       "      <th>Credit_Score</th>\n",
       "    </tr>\n",
       "  </thead>\n",
       "  <tbody>\n",
       "    <tr>\n",
       "      <th>0</th>\n",
       "      <td>0x1602</td>\n",
       "      <td>CUS_0xd40</td>\n",
       "      <td>January</td>\n",
       "      <td>Aaron Maashoh</td>\n",
       "      <td>23</td>\n",
       "      <td>821-00-0265</td>\n",
       "      <td>Scientist</td>\n",
       "      <td>19114.12</td>\n",
       "      <td>1824.843333</td>\n",
       "      <td>3</td>\n",
       "      <td>...</td>\n",
       "      <td>_</td>\n",
       "      <td>809.98</td>\n",
       "      <td>26.822620</td>\n",
       "      <td>22 Years and 1 Months</td>\n",
       "      <td>No</td>\n",
       "      <td>49.574949</td>\n",
       "      <td>80.41529543900253</td>\n",
       "      <td>High_spent_Small_value_payments</td>\n",
       "      <td>312.49408867943663</td>\n",
       "      <td>Good</td>\n",
       "    </tr>\n",
       "    <tr>\n",
       "      <th>1</th>\n",
       "      <td>0x1603</td>\n",
       "      <td>CUS_0xd40</td>\n",
       "      <td>February</td>\n",
       "      <td>Aaron Maashoh</td>\n",
       "      <td>23</td>\n",
       "      <td>821-00-0265</td>\n",
       "      <td>Scientist</td>\n",
       "      <td>19114.12</td>\n",
       "      <td>NaN</td>\n",
       "      <td>3</td>\n",
       "      <td>...</td>\n",
       "      <td>Good</td>\n",
       "      <td>809.98</td>\n",
       "      <td>31.944960</td>\n",
       "      <td>NaN</td>\n",
       "      <td>No</td>\n",
       "      <td>49.574949</td>\n",
       "      <td>118.28022162236736</td>\n",
       "      <td>Low_spent_Large_value_payments</td>\n",
       "      <td>284.62916249607184</td>\n",
       "      <td>Good</td>\n",
       "    </tr>\n",
       "    <tr>\n",
       "      <th>2</th>\n",
       "      <td>0x1604</td>\n",
       "      <td>CUS_0xd40</td>\n",
       "      <td>March</td>\n",
       "      <td>Aaron Maashoh</td>\n",
       "      <td>-500</td>\n",
       "      <td>821-00-0265</td>\n",
       "      <td>Scientist</td>\n",
       "      <td>19114.12</td>\n",
       "      <td>NaN</td>\n",
       "      <td>3</td>\n",
       "      <td>...</td>\n",
       "      <td>Good</td>\n",
       "      <td>809.98</td>\n",
       "      <td>28.609352</td>\n",
       "      <td>22 Years and 3 Months</td>\n",
       "      <td>No</td>\n",
       "      <td>49.574949</td>\n",
       "      <td>81.699521264648</td>\n",
       "      <td>Low_spent_Medium_value_payments</td>\n",
       "      <td>331.2098628537912</td>\n",
       "      <td>Good</td>\n",
       "    </tr>\n",
       "    <tr>\n",
       "      <th>3</th>\n",
       "      <td>0x1605</td>\n",
       "      <td>CUS_0xd40</td>\n",
       "      <td>April</td>\n",
       "      <td>Aaron Maashoh</td>\n",
       "      <td>23</td>\n",
       "      <td>821-00-0265</td>\n",
       "      <td>Scientist</td>\n",
       "      <td>19114.12</td>\n",
       "      <td>NaN</td>\n",
       "      <td>3</td>\n",
       "      <td>...</td>\n",
       "      <td>Good</td>\n",
       "      <td>809.98</td>\n",
       "      <td>31.377862</td>\n",
       "      <td>22 Years and 4 Months</td>\n",
       "      <td>No</td>\n",
       "      <td>49.574949</td>\n",
       "      <td>199.4580743910713</td>\n",
       "      <td>Low_spent_Small_value_payments</td>\n",
       "      <td>223.45130972736786</td>\n",
       "      <td>Good</td>\n",
       "    </tr>\n",
       "    <tr>\n",
       "      <th>4</th>\n",
       "      <td>0x1606</td>\n",
       "      <td>CUS_0xd40</td>\n",
       "      <td>May</td>\n",
       "      <td>Aaron Maashoh</td>\n",
       "      <td>23</td>\n",
       "      <td>821-00-0265</td>\n",
       "      <td>Scientist</td>\n",
       "      <td>19114.12</td>\n",
       "      <td>1824.843333</td>\n",
       "      <td>3</td>\n",
       "      <td>...</td>\n",
       "      <td>Good</td>\n",
       "      <td>809.98</td>\n",
       "      <td>24.797347</td>\n",
       "      <td>22 Years and 5 Months</td>\n",
       "      <td>No</td>\n",
       "      <td>49.574949</td>\n",
       "      <td>41.420153086217326</td>\n",
       "      <td>High_spent_Medium_value_payments</td>\n",
       "      <td>341.48923103222177</td>\n",
       "      <td>Good</td>\n",
       "    </tr>\n",
       "  </tbody>\n",
       "</table>\n",
       "<p>5 rows × 28 columns</p>\n",
       "</div>"
      ],
      "text/plain": [
       "       ID Customer_ID     Month           Name   Age          SSN Occupation  \\\n",
       "0  0x1602   CUS_0xd40   January  Aaron Maashoh    23  821-00-0265  Scientist   \n",
       "1  0x1603   CUS_0xd40  February  Aaron Maashoh    23  821-00-0265  Scientist   \n",
       "2  0x1604   CUS_0xd40     March  Aaron Maashoh  -500  821-00-0265  Scientist   \n",
       "3  0x1605   CUS_0xd40     April  Aaron Maashoh    23  821-00-0265  Scientist   \n",
       "4  0x1606   CUS_0xd40       May  Aaron Maashoh    23  821-00-0265  Scientist   \n",
       "\n",
       "  Annual_Income  Monthly_Inhand_Salary  Num_Bank_Accounts  ...  Credit_Mix  \\\n",
       "0      19114.12            1824.843333                  3  ...           _   \n",
       "1      19114.12                    NaN                  3  ...        Good   \n",
       "2      19114.12                    NaN                  3  ...        Good   \n",
       "3      19114.12                    NaN                  3  ...        Good   \n",
       "4      19114.12            1824.843333                  3  ...        Good   \n",
       "\n",
       "   Outstanding_Debt Credit_Utilization_Ratio     Credit_History_Age  \\\n",
       "0            809.98                26.822620  22 Years and 1 Months   \n",
       "1            809.98                31.944960                    NaN   \n",
       "2            809.98                28.609352  22 Years and 3 Months   \n",
       "3            809.98                31.377862  22 Years and 4 Months   \n",
       "4            809.98                24.797347  22 Years and 5 Months   \n",
       "\n",
       "   Payment_of_Min_Amount Total_EMI_per_month Amount_invested_monthly  \\\n",
       "0                     No           49.574949       80.41529543900253   \n",
       "1                     No           49.574949      118.28022162236736   \n",
       "2                     No           49.574949         81.699521264648   \n",
       "3                     No           49.574949       199.4580743910713   \n",
       "4                     No           49.574949      41.420153086217326   \n",
       "\n",
       "                  Payment_Behaviour     Monthly_Balance Credit_Score  \n",
       "0   High_spent_Small_value_payments  312.49408867943663         Good  \n",
       "1    Low_spent_Large_value_payments  284.62916249607184         Good  \n",
       "2   Low_spent_Medium_value_payments   331.2098628537912         Good  \n",
       "3    Low_spent_Small_value_payments  223.45130972736786         Good  \n",
       "4  High_spent_Medium_value_payments  341.48923103222177         Good  \n",
       "\n",
       "[5 rows x 28 columns]"
      ]
     },
     "execution_count": 3,
     "metadata": {},
     "output_type": "execute_result"
    }
   ],
   "source": [
    "df_train.head()  # display the first 5 rows of the dataset"
   ]
  },
  {
   "cell_type": "markdown",
   "id": "54b39cde-5afc-4c5b-9ffa-8867163ba367",
   "metadata": {},
   "source": [
    "Note:\n",
    "- ID, Customer_ID, and Name are unique identifiers or personal information, which isn't useful for modeling. These will likely be dropped in the cleaning step. Similarly for SSN.\n",
    "- We can see that one row has -500 for age, which clearly can't be. We'll need to clean this column and possiblt filter out extreme values.\n",
    "- Some rows are shown to have missing values. Well inspect this more and determine a course of action.\n",
    "- Credit_Mix has a values of `_`, which could be an error.\n",
    "- Payment_of_Min_Amount is \"Yes\"/\"No\" — perfect for binary encoding.\n",
    "- Payment_Behaviour has long string patterns — may be too granular for a baseline model."
   ]
  },
  {
   "cell_type": "markdown",
   "id": "069897e9-0cb4-4366-ad8d-bca3c417fdea",
   "metadata": {
    "jp-MarkdownHeadingCollapsed": true
   },
   "source": [
    "# Initial Inspection"
   ]
  },
  {
   "cell_type": "markdown",
   "id": "8983b962-213c-433c-b40c-e62822c571cf",
   "metadata": {},
   "source": [
    "Next, we do our initial inspection of the dataset."
   ]
  },
  {
   "cell_type": "code",
   "execution_count": 4,
   "id": "0e739200-5422-43c4-8111-be8a2bdc233a",
   "metadata": {},
   "outputs": [
    {
     "name": "stdout",
     "output_type": "stream",
     "text": [
      "<class 'pandas.core.frame.DataFrame'>\n",
      "RangeIndex: 100000 entries, 0 to 99999\n",
      "Data columns (total 28 columns):\n",
      " #   Column                    Non-Null Count   Dtype  \n",
      "---  ------                    --------------   -----  \n",
      " 0   ID                        100000 non-null  object \n",
      " 1   Customer_ID               100000 non-null  object \n",
      " 2   Month                     100000 non-null  object \n",
      " 3   Name                      90015 non-null   object \n",
      " 4   Age                       100000 non-null  object \n",
      " 5   SSN                       100000 non-null  object \n",
      " 6   Occupation                100000 non-null  object \n",
      " 7   Annual_Income             100000 non-null  object \n",
      " 8   Monthly_Inhand_Salary     84998 non-null   float64\n",
      " 9   Num_Bank_Accounts         100000 non-null  int64  \n",
      " 10  Num_Credit_Card           100000 non-null  int64  \n",
      " 11  Interest_Rate             100000 non-null  int64  \n",
      " 12  Num_of_Loan               100000 non-null  object \n",
      " 13  Type_of_Loan              88592 non-null   object \n",
      " 14  Delay_from_due_date       100000 non-null  int64  \n",
      " 15  Num_of_Delayed_Payment    92998 non-null   object \n",
      " 16  Changed_Credit_Limit      100000 non-null  object \n",
      " 17  Num_Credit_Inquiries      98035 non-null   float64\n",
      " 18  Credit_Mix                100000 non-null  object \n",
      " 19  Outstanding_Debt          100000 non-null  object \n",
      " 20  Credit_Utilization_Ratio  100000 non-null  float64\n",
      " 21  Credit_History_Age        90970 non-null   object \n",
      " 22  Payment_of_Min_Amount     100000 non-null  object \n",
      " 23  Total_EMI_per_month       100000 non-null  float64\n",
      " 24  Amount_invested_monthly   95521 non-null   object \n",
      " 25  Payment_Behaviour         100000 non-null  object \n",
      " 26  Monthly_Balance           98800 non-null   object \n",
      " 27  Credit_Score              100000 non-null  object \n",
      "dtypes: float64(4), int64(4), object(20)\n",
      "memory usage: 21.4+ MB\n"
     ]
    }
   ],
   "source": [
    "df_train.info()  # shows column names, non-null counts, and data types"
   ]
  },
  {
   "cell_type": "markdown",
   "id": "25ea231a-d635-4558-8cfc-5334e98d00e8",
   "metadata": {},
   "source": [
    "Note:\n",
    "- We have 28 columns comprised of object, int64, and float64 dtypes.\n",
    "- 20 variables are objects, though many look like they should be numeric.\n",
    "- We can already see that some variables have missing values.\n",
    "\n",
    "We'll need to convert object-type accordingly. Missing values can be imputed or dropped. Categorical variables will need to be encoded."
   ]
  },
  {
   "cell_type": "code",
   "execution_count": 5,
   "id": "70b793a7-a416-40bf-a28b-ba5bf9716b9a",
   "metadata": {},
   "outputs": [
    {
     "data": {
      "text/html": [
       "<div>\n",
       "<style scoped>\n",
       "    .dataframe tbody tr th:only-of-type {\n",
       "        vertical-align: middle;\n",
       "    }\n",
       "\n",
       "    .dataframe tbody tr th {\n",
       "        vertical-align: top;\n",
       "    }\n",
       "\n",
       "    .dataframe thead th {\n",
       "        text-align: right;\n",
       "    }\n",
       "</style>\n",
       "<table border=\"1\" class=\"dataframe\">\n",
       "  <thead>\n",
       "    <tr style=\"text-align: right;\">\n",
       "      <th></th>\n",
       "      <th>Monthly_Inhand_Salary</th>\n",
       "      <th>Num_Bank_Accounts</th>\n",
       "      <th>Num_Credit_Card</th>\n",
       "      <th>Interest_Rate</th>\n",
       "      <th>Delay_from_due_date</th>\n",
       "      <th>Num_Credit_Inquiries</th>\n",
       "      <th>Credit_Utilization_Ratio</th>\n",
       "      <th>Total_EMI_per_month</th>\n",
       "    </tr>\n",
       "  </thead>\n",
       "  <tbody>\n",
       "    <tr>\n",
       "      <th>count</th>\n",
       "      <td>84998.000000</td>\n",
       "      <td>100000.000000</td>\n",
       "      <td>100000.00000</td>\n",
       "      <td>100000.000000</td>\n",
       "      <td>100000.000000</td>\n",
       "      <td>98035.000000</td>\n",
       "      <td>100000.000000</td>\n",
       "      <td>100000.000000</td>\n",
       "    </tr>\n",
       "    <tr>\n",
       "      <th>mean</th>\n",
       "      <td>4194.170850</td>\n",
       "      <td>17.091280</td>\n",
       "      <td>22.47443</td>\n",
       "      <td>72.466040</td>\n",
       "      <td>21.068780</td>\n",
       "      <td>27.754251</td>\n",
       "      <td>32.285173</td>\n",
       "      <td>1403.118217</td>\n",
       "    </tr>\n",
       "    <tr>\n",
       "      <th>std</th>\n",
       "      <td>3183.686167</td>\n",
       "      <td>117.404834</td>\n",
       "      <td>129.05741</td>\n",
       "      <td>466.422621</td>\n",
       "      <td>14.860104</td>\n",
       "      <td>193.177339</td>\n",
       "      <td>5.116875</td>\n",
       "      <td>8306.041270</td>\n",
       "    </tr>\n",
       "    <tr>\n",
       "      <th>min</th>\n",
       "      <td>303.645417</td>\n",
       "      <td>-1.000000</td>\n",
       "      <td>0.00000</td>\n",
       "      <td>1.000000</td>\n",
       "      <td>-5.000000</td>\n",
       "      <td>0.000000</td>\n",
       "      <td>20.000000</td>\n",
       "      <td>0.000000</td>\n",
       "    </tr>\n",
       "    <tr>\n",
       "      <th>25%</th>\n",
       "      <td>1625.568229</td>\n",
       "      <td>3.000000</td>\n",
       "      <td>4.00000</td>\n",
       "      <td>8.000000</td>\n",
       "      <td>10.000000</td>\n",
       "      <td>3.000000</td>\n",
       "      <td>28.052567</td>\n",
       "      <td>30.306660</td>\n",
       "    </tr>\n",
       "    <tr>\n",
       "      <th>50%</th>\n",
       "      <td>3093.745000</td>\n",
       "      <td>6.000000</td>\n",
       "      <td>5.00000</td>\n",
       "      <td>13.000000</td>\n",
       "      <td>18.000000</td>\n",
       "      <td>6.000000</td>\n",
       "      <td>32.305784</td>\n",
       "      <td>69.249473</td>\n",
       "    </tr>\n",
       "    <tr>\n",
       "      <th>75%</th>\n",
       "      <td>5957.448333</td>\n",
       "      <td>7.000000</td>\n",
       "      <td>7.00000</td>\n",
       "      <td>20.000000</td>\n",
       "      <td>28.000000</td>\n",
       "      <td>9.000000</td>\n",
       "      <td>36.496663</td>\n",
       "      <td>161.224249</td>\n",
       "    </tr>\n",
       "    <tr>\n",
       "      <th>max</th>\n",
       "      <td>15204.633333</td>\n",
       "      <td>1798.000000</td>\n",
       "      <td>1499.00000</td>\n",
       "      <td>5797.000000</td>\n",
       "      <td>67.000000</td>\n",
       "      <td>2597.000000</td>\n",
       "      <td>50.000000</td>\n",
       "      <td>82331.000000</td>\n",
       "    </tr>\n",
       "  </tbody>\n",
       "</table>\n",
       "</div>"
      ],
      "text/plain": [
       "       Monthly_Inhand_Salary  Num_Bank_Accounts  Num_Credit_Card  \\\n",
       "count           84998.000000      100000.000000     100000.00000   \n",
       "mean             4194.170850          17.091280         22.47443   \n",
       "std              3183.686167         117.404834        129.05741   \n",
       "min               303.645417          -1.000000          0.00000   \n",
       "25%              1625.568229           3.000000          4.00000   \n",
       "50%              3093.745000           6.000000          5.00000   \n",
       "75%              5957.448333           7.000000          7.00000   \n",
       "max             15204.633333        1798.000000       1499.00000   \n",
       "\n",
       "       Interest_Rate  Delay_from_due_date  Num_Credit_Inquiries  \\\n",
       "count  100000.000000        100000.000000          98035.000000   \n",
       "mean       72.466040            21.068780             27.754251   \n",
       "std       466.422621            14.860104            193.177339   \n",
       "min         1.000000            -5.000000              0.000000   \n",
       "25%         8.000000            10.000000              3.000000   \n",
       "50%        13.000000            18.000000              6.000000   \n",
       "75%        20.000000            28.000000              9.000000   \n",
       "max      5797.000000            67.000000           2597.000000   \n",
       "\n",
       "       Credit_Utilization_Ratio  Total_EMI_per_month  \n",
       "count             100000.000000        100000.000000  \n",
       "mean                  32.285173          1403.118217  \n",
       "std                    5.116875          8306.041270  \n",
       "min                   20.000000             0.000000  \n",
       "25%                   28.052567            30.306660  \n",
       "50%                   32.305784            69.249473  \n",
       "75%                   36.496663           161.224249  \n",
       "max                   50.000000         82331.000000  "
      ]
     },
     "execution_count": 5,
     "metadata": {},
     "output_type": "execute_result"
    }
   ],
   "source": [
    "df_train.describe()  # summary stats"
   ]
  },
  {
   "cell_type": "markdown",
   "id": "f97e5630-10db-4cc1-b603-4a7d831c2ddc",
   "metadata": {},
   "source": [
    "Note:\n",
    "- We see evidence of some extreme outliers.\n",
    "- Negative values in Num_Bank_Accounts and Delay_from_due_date are likely invalid\n",
    "- Monthly_Inhand_Salary has a wide range and missing values\n",
    "\n",
    "We'll have to handle the outliers, either through clipping or filtering. Negative values in columns that should be non-negative will need correction or removal. Scaling will be essential due to wide value ranges."
   ]
  },
  {
   "cell_type": "code",
   "execution_count": 6,
   "id": "9d2b5401-24ce-411d-a88f-f42bbe78c3fc",
   "metadata": {},
   "outputs": [
    {
     "data": {
      "text/html": [
       "<div>\n",
       "<style scoped>\n",
       "    .dataframe tbody tr th:only-of-type {\n",
       "        vertical-align: middle;\n",
       "    }\n",
       "\n",
       "    .dataframe tbody tr th {\n",
       "        vertical-align: top;\n",
       "    }\n",
       "\n",
       "    .dataframe thead th {\n",
       "        text-align: right;\n",
       "    }\n",
       "</style>\n",
       "<table border=\"1\" class=\"dataframe\">\n",
       "  <thead>\n",
       "    <tr style=\"text-align: right;\">\n",
       "      <th></th>\n",
       "      <th>ID</th>\n",
       "      <th>Customer_ID</th>\n",
       "      <th>Month</th>\n",
       "      <th>Name</th>\n",
       "      <th>Age</th>\n",
       "      <th>SSN</th>\n",
       "      <th>Occupation</th>\n",
       "      <th>Annual_Income</th>\n",
       "      <th>Num_of_Loan</th>\n",
       "      <th>Type_of_Loan</th>\n",
       "      <th>Num_of_Delayed_Payment</th>\n",
       "      <th>Changed_Credit_Limit</th>\n",
       "      <th>Credit_Mix</th>\n",
       "      <th>Outstanding_Debt</th>\n",
       "      <th>Credit_History_Age</th>\n",
       "      <th>Payment_of_Min_Amount</th>\n",
       "      <th>Amount_invested_monthly</th>\n",
       "      <th>Payment_Behaviour</th>\n",
       "      <th>Monthly_Balance</th>\n",
       "      <th>Credit_Score</th>\n",
       "    </tr>\n",
       "  </thead>\n",
       "  <tbody>\n",
       "    <tr>\n",
       "      <th>count</th>\n",
       "      <td>100000</td>\n",
       "      <td>100000</td>\n",
       "      <td>100000</td>\n",
       "      <td>90015</td>\n",
       "      <td>100000</td>\n",
       "      <td>100000</td>\n",
       "      <td>100000</td>\n",
       "      <td>100000</td>\n",
       "      <td>100000</td>\n",
       "      <td>88592</td>\n",
       "      <td>92998</td>\n",
       "      <td>100000</td>\n",
       "      <td>100000</td>\n",
       "      <td>100000</td>\n",
       "      <td>90970</td>\n",
       "      <td>100000</td>\n",
       "      <td>95521</td>\n",
       "      <td>100000</td>\n",
       "      <td>98800</td>\n",
       "      <td>100000</td>\n",
       "    </tr>\n",
       "    <tr>\n",
       "      <th>unique</th>\n",
       "      <td>100000</td>\n",
       "      <td>12500</td>\n",
       "      <td>8</td>\n",
       "      <td>10139</td>\n",
       "      <td>1788</td>\n",
       "      <td>12501</td>\n",
       "      <td>16</td>\n",
       "      <td>18940</td>\n",
       "      <td>434</td>\n",
       "      <td>6260</td>\n",
       "      <td>749</td>\n",
       "      <td>4384</td>\n",
       "      <td>4</td>\n",
       "      <td>13178</td>\n",
       "      <td>404</td>\n",
       "      <td>3</td>\n",
       "      <td>91049</td>\n",
       "      <td>7</td>\n",
       "      <td>98792</td>\n",
       "      <td>3</td>\n",
       "    </tr>\n",
       "    <tr>\n",
       "      <th>top</th>\n",
       "      <td>0x1602</td>\n",
       "      <td>CUS_0xd40</td>\n",
       "      <td>January</td>\n",
       "      <td>Langep</td>\n",
       "      <td>38</td>\n",
       "      <td>#F%$D@*&amp;8</td>\n",
       "      <td>_______</td>\n",
       "      <td>36585.12</td>\n",
       "      <td>3</td>\n",
       "      <td>Not Specified</td>\n",
       "      <td>19</td>\n",
       "      <td>_</td>\n",
       "      <td>Standard</td>\n",
       "      <td>1360.45</td>\n",
       "      <td>15 Years and 11 Months</td>\n",
       "      <td>Yes</td>\n",
       "      <td>__10000__</td>\n",
       "      <td>Low_spent_Small_value_payments</td>\n",
       "      <td>__-333333333333333333333333333__</td>\n",
       "      <td>Standard</td>\n",
       "    </tr>\n",
       "    <tr>\n",
       "      <th>freq</th>\n",
       "      <td>1</td>\n",
       "      <td>8</td>\n",
       "      <td>12500</td>\n",
       "      <td>44</td>\n",
       "      <td>2833</td>\n",
       "      <td>5572</td>\n",
       "      <td>7062</td>\n",
       "      <td>16</td>\n",
       "      <td>14386</td>\n",
       "      <td>1408</td>\n",
       "      <td>5327</td>\n",
       "      <td>2091</td>\n",
       "      <td>36479</td>\n",
       "      <td>24</td>\n",
       "      <td>446</td>\n",
       "      <td>52326</td>\n",
       "      <td>4305</td>\n",
       "      <td>25513</td>\n",
       "      <td>9</td>\n",
       "      <td>53174</td>\n",
       "    </tr>\n",
       "  </tbody>\n",
       "</table>\n",
       "</div>"
      ],
      "text/plain": [
       "            ID Customer_ID    Month    Name     Age        SSN Occupation  \\\n",
       "count   100000      100000   100000   90015  100000     100000     100000   \n",
       "unique  100000       12500        8   10139    1788      12501         16   \n",
       "top     0x1602   CUS_0xd40  January  Langep      38  #F%$D@*&8    _______   \n",
       "freq         1           8    12500      44    2833       5572       7062   \n",
       "\n",
       "       Annual_Income Num_of_Loan   Type_of_Loan Num_of_Delayed_Payment  \\\n",
       "count         100000      100000          88592                  92998   \n",
       "unique         18940         434           6260                    749   \n",
       "top         36585.12           3  Not Specified                     19   \n",
       "freq              16       14386           1408                   5327   \n",
       "\n",
       "       Changed_Credit_Limit Credit_Mix Outstanding_Debt  \\\n",
       "count                100000     100000           100000   \n",
       "unique                 4384          4            13178   \n",
       "top                       _   Standard          1360.45   \n",
       "freq                   2091      36479               24   \n",
       "\n",
       "            Credit_History_Age Payment_of_Min_Amount Amount_invested_monthly  \\\n",
       "count                    90970                100000                   95521   \n",
       "unique                     404                     3                   91049   \n",
       "top     15 Years and 11 Months                   Yes               __10000__   \n",
       "freq                       446                 52326                    4305   \n",
       "\n",
       "                     Payment_Behaviour                   Monthly_Balance  \\\n",
       "count                           100000                             98800   \n",
       "unique                               7                             98792   \n",
       "top     Low_spent_Small_value_payments  __-333333333333333333333333333__   \n",
       "freq                             25513                                 9   \n",
       "\n",
       "       Credit_Score  \n",
       "count        100000  \n",
       "unique            3  \n",
       "top        Standard  \n",
       "freq          53174  "
      ]
     },
     "execution_count": 6,
     "metadata": {},
     "output_type": "execute_result"
    }
   ],
   "source": [
    "df_train.describe(include='object')  # summary stats for non-numeric columns (unique values, top value, frequency)"
   ]
  },
  {
   "cell_type": "markdown",
   "id": "a6ed9218-2e08-4377-87bb-d67d6d9a47a8",
   "metadata": {},
   "source": [
    "Note:\n",
    "- Many columns have high cardinality.\n",
    "- Columns like Payment_Behaviour and Type_of_Loan may be too granular or messy for a baseline model — we might drop them.\n",
    "- Credit_History_Age will need to be converted to total months.\n",
    "- Placeholder values like _ should be replaced or treated as missing."
   ]
  },
  {
   "cell_type": "code",
   "execution_count": 7,
   "id": "58940886-c051-4d30-b688-b889b923ee72",
   "metadata": {},
   "outputs": [
    {
     "data": {
      "text/plain": [
       "Credit_Score\n",
       "Standard    53174\n",
       "Poor        28998\n",
       "Good        17828\n",
       "Name: count, dtype: int64"
      ]
     },
     "execution_count": 7,
     "metadata": {},
     "output_type": "execute_result"
    }
   ],
   "source": [
    "df_train[\"Credit_Score\"].value_counts()  # counts of each category in the target column"
   ]
  },
  {
   "cell_type": "markdown",
   "id": "d6d3bbe5-bd10-4179-9c65-097683f4e087",
   "metadata": {},
   "source": [
    "Note:\n",
    "- There's reasonable class balance, though Poor clearly has less.\n",
    "- We'll map Credit_Score to a binary output: Poor to 1 (high risk) and Standard/Good to 0 (low risk)\n",
    "- May need to monitor class imbalance during training (e.g., use class weights or stratified split"
   ]
  },
  {
   "cell_type": "code",
   "execution_count": 8,
   "id": "d8056d63-bab4-4da4-8f4e-e163e2cf117f",
   "metadata": {
    "scrolled": true
   },
   "outputs": [
    {
     "data": {
      "text/plain": [
       "Monthly_Inhand_Salary       15002\n",
       "Type_of_Loan                11408\n",
       "Name                         9985\n",
       "Credit_History_Age           9030\n",
       "Num_of_Delayed_Payment       7002\n",
       "Amount_invested_monthly      4479\n",
       "Num_Credit_Inquiries         1965\n",
       "Monthly_Balance              1200\n",
       "ID                              0\n",
       "Changed_Credit_Limit            0\n",
       "Payment_Behaviour               0\n",
       "Total_EMI_per_month             0\n",
       "Payment_of_Min_Amount           0\n",
       "Credit_Utilization_Ratio        0\n",
       "Outstanding_Debt                0\n",
       "Credit_Mix                      0\n",
       "Delay_from_due_date             0\n",
       "Customer_ID                     0\n",
       "Num_of_Loan                     0\n",
       "Interest_Rate                   0\n",
       "Num_Credit_Card                 0\n",
       "Num_Bank_Accounts               0\n",
       "Annual_Income                   0\n",
       "Occupation                      0\n",
       "SSN                             0\n",
       "Age                             0\n",
       "Month                           0\n",
       "Credit_Score                    0\n",
       "dtype: int64"
      ]
     },
     "execution_count": 8,
     "metadata": {},
     "output_type": "execute_result"
    }
   ],
   "source": [
    "df_train.isna().sum().sort_values(ascending=False)  # count missing values per column"
   ]
  },
  {
   "cell_type": "markdown",
   "id": "0a650ac5-246a-4f50-b635-046d7f192c6a",
   "metadata": {},
   "source": [
    "We can see that several columns have missing values.\n",
    "- Columns with moderate missingness can be imputed (e.g., median for numeric, mode for categorical).\n",
    "- Columns with high missingness and low modeling value (e.g., Name, Type_of_Loan) may be dropped."
   ]
  },
  {
   "cell_type": "code",
   "execution_count": 9,
   "id": "67c2e91b-bfd0-40eb-970a-5c6e10528d54",
   "metadata": {},
   "outputs": [
    {
     "data": {
      "text/plain": [
       "0"
      ]
     },
     "execution_count": 9,
     "metadata": {},
     "output_type": "execute_result"
    }
   ],
   "source": [
    "df_train.duplicated().sum()  # count of fully duplicated rows"
   ]
  },
  {
   "cell_type": "markdown",
   "id": "a6e8c068-a79f-48a4-94aa-9107bd441707",
   "metadata": {},
   "source": [
    "No duplicates."
   ]
  },
  {
   "cell_type": "markdown",
   "id": "7f8746ac-2efe-454f-b9f5-12d85814c1b4",
   "metadata": {
    "jp-MarkdownHeadingCollapsed": true
   },
   "source": [
    "# Data Cleaning"
   ]
  },
  {
   "cell_type": "markdown",
   "id": "ea1197da-bba5-4c25-a9dd-74104a5acdda",
   "metadata": {
    "jp-MarkdownHeadingCollapsed": true
   },
   "source": [
    "## Drop Irrelevant Columns"
   ]
  },
  {
   "cell_type": "markdown",
   "id": "eed60b3a-219f-4966-a6bd-62940b8d6326",
   "metadata": {},
   "source": [
    "Some columns don't contribute to prediction, may introduce noise, or house personal information. We'll start by removing them."
   ]
  },
  {
   "cell_type": "code",
   "execution_count": 10,
   "id": "65869e82-157f-473f-ac88-3e9c56ba4789",
   "metadata": {},
   "outputs": [],
   "source": [
    "# Drop columns that are irrelevant, sensitive, or too complex for baseline modeling\n",
    "df_train.drop(columns=[\n",
    "    \"ID\",                    # unique row identifier, not predictive\n",
    "    \"Customer_ID\",           # repeated across months, not useful for modeling\n",
    "    \"Month\",                 # temporal label, adds noise without time-series modeling\n",
    "    \"Name\",                  # personal identifier, high cardinality, not predictive\n",
    "    \"SSN\",                   # sensitive data, not useful for prediction\n",
    "    \"Type_of_Loan\",          # multi-valued string, complex to encode\n",
    "    \"Payment_Behaviour\"      # descriptive strings, hard to model without NLP\n",
    "], inplace=True)"
   ]
  },
  {
   "cell_type": "code",
   "execution_count": 11,
   "id": "cab5b140-6d4d-4016-a75e-edcafe831132",
   "metadata": {},
   "outputs": [
    {
     "data": {
      "text/html": [
       "<div>\n",
       "<style scoped>\n",
       "    .dataframe tbody tr th:only-of-type {\n",
       "        vertical-align: middle;\n",
       "    }\n",
       "\n",
       "    .dataframe tbody tr th {\n",
       "        vertical-align: top;\n",
       "    }\n",
       "\n",
       "    .dataframe thead th {\n",
       "        text-align: right;\n",
       "    }\n",
       "</style>\n",
       "<table border=\"1\" class=\"dataframe\">\n",
       "  <thead>\n",
       "    <tr style=\"text-align: right;\">\n",
       "      <th></th>\n",
       "      <th>Age</th>\n",
       "      <th>Occupation</th>\n",
       "      <th>Annual_Income</th>\n",
       "      <th>Monthly_Inhand_Salary</th>\n",
       "      <th>Num_Bank_Accounts</th>\n",
       "      <th>Num_Credit_Card</th>\n",
       "      <th>Interest_Rate</th>\n",
       "      <th>Num_of_Loan</th>\n",
       "      <th>Delay_from_due_date</th>\n",
       "      <th>Num_of_Delayed_Payment</th>\n",
       "      <th>...</th>\n",
       "      <th>Num_Credit_Inquiries</th>\n",
       "      <th>Credit_Mix</th>\n",
       "      <th>Outstanding_Debt</th>\n",
       "      <th>Credit_Utilization_Ratio</th>\n",
       "      <th>Credit_History_Age</th>\n",
       "      <th>Payment_of_Min_Amount</th>\n",
       "      <th>Total_EMI_per_month</th>\n",
       "      <th>Amount_invested_monthly</th>\n",
       "      <th>Monthly_Balance</th>\n",
       "      <th>Credit_Score</th>\n",
       "    </tr>\n",
       "  </thead>\n",
       "  <tbody>\n",
       "    <tr>\n",
       "      <th>0</th>\n",
       "      <td>23</td>\n",
       "      <td>Scientist</td>\n",
       "      <td>19114.12</td>\n",
       "      <td>1824.843333</td>\n",
       "      <td>3</td>\n",
       "      <td>4</td>\n",
       "      <td>3</td>\n",
       "      <td>4</td>\n",
       "      <td>3</td>\n",
       "      <td>7</td>\n",
       "      <td>...</td>\n",
       "      <td>4.0</td>\n",
       "      <td>_</td>\n",
       "      <td>809.98</td>\n",
       "      <td>26.822620</td>\n",
       "      <td>22 Years and 1 Months</td>\n",
       "      <td>No</td>\n",
       "      <td>49.574949</td>\n",
       "      <td>80.41529543900253</td>\n",
       "      <td>312.49408867943663</td>\n",
       "      <td>Good</td>\n",
       "    </tr>\n",
       "    <tr>\n",
       "      <th>1</th>\n",
       "      <td>23</td>\n",
       "      <td>Scientist</td>\n",
       "      <td>19114.12</td>\n",
       "      <td>NaN</td>\n",
       "      <td>3</td>\n",
       "      <td>4</td>\n",
       "      <td>3</td>\n",
       "      <td>4</td>\n",
       "      <td>-1</td>\n",
       "      <td>NaN</td>\n",
       "      <td>...</td>\n",
       "      <td>4.0</td>\n",
       "      <td>Good</td>\n",
       "      <td>809.98</td>\n",
       "      <td>31.944960</td>\n",
       "      <td>NaN</td>\n",
       "      <td>No</td>\n",
       "      <td>49.574949</td>\n",
       "      <td>118.28022162236736</td>\n",
       "      <td>284.62916249607184</td>\n",
       "      <td>Good</td>\n",
       "    </tr>\n",
       "    <tr>\n",
       "      <th>2</th>\n",
       "      <td>-500</td>\n",
       "      <td>Scientist</td>\n",
       "      <td>19114.12</td>\n",
       "      <td>NaN</td>\n",
       "      <td>3</td>\n",
       "      <td>4</td>\n",
       "      <td>3</td>\n",
       "      <td>4</td>\n",
       "      <td>3</td>\n",
       "      <td>7</td>\n",
       "      <td>...</td>\n",
       "      <td>4.0</td>\n",
       "      <td>Good</td>\n",
       "      <td>809.98</td>\n",
       "      <td>28.609352</td>\n",
       "      <td>22 Years and 3 Months</td>\n",
       "      <td>No</td>\n",
       "      <td>49.574949</td>\n",
       "      <td>81.699521264648</td>\n",
       "      <td>331.2098628537912</td>\n",
       "      <td>Good</td>\n",
       "    </tr>\n",
       "    <tr>\n",
       "      <th>3</th>\n",
       "      <td>23</td>\n",
       "      <td>Scientist</td>\n",
       "      <td>19114.12</td>\n",
       "      <td>NaN</td>\n",
       "      <td>3</td>\n",
       "      <td>4</td>\n",
       "      <td>3</td>\n",
       "      <td>4</td>\n",
       "      <td>5</td>\n",
       "      <td>4</td>\n",
       "      <td>...</td>\n",
       "      <td>4.0</td>\n",
       "      <td>Good</td>\n",
       "      <td>809.98</td>\n",
       "      <td>31.377862</td>\n",
       "      <td>22 Years and 4 Months</td>\n",
       "      <td>No</td>\n",
       "      <td>49.574949</td>\n",
       "      <td>199.4580743910713</td>\n",
       "      <td>223.45130972736786</td>\n",
       "      <td>Good</td>\n",
       "    </tr>\n",
       "    <tr>\n",
       "      <th>4</th>\n",
       "      <td>23</td>\n",
       "      <td>Scientist</td>\n",
       "      <td>19114.12</td>\n",
       "      <td>1824.843333</td>\n",
       "      <td>3</td>\n",
       "      <td>4</td>\n",
       "      <td>3</td>\n",
       "      <td>4</td>\n",
       "      <td>6</td>\n",
       "      <td>NaN</td>\n",
       "      <td>...</td>\n",
       "      <td>4.0</td>\n",
       "      <td>Good</td>\n",
       "      <td>809.98</td>\n",
       "      <td>24.797347</td>\n",
       "      <td>22 Years and 5 Months</td>\n",
       "      <td>No</td>\n",
       "      <td>49.574949</td>\n",
       "      <td>41.420153086217326</td>\n",
       "      <td>341.48923103222177</td>\n",
       "      <td>Good</td>\n",
       "    </tr>\n",
       "  </tbody>\n",
       "</table>\n",
       "<p>5 rows × 21 columns</p>\n",
       "</div>"
      ],
      "text/plain": [
       "    Age Occupation Annual_Income  Monthly_Inhand_Salary  Num_Bank_Accounts  \\\n",
       "0    23  Scientist      19114.12            1824.843333                  3   \n",
       "1    23  Scientist      19114.12                    NaN                  3   \n",
       "2  -500  Scientist      19114.12                    NaN                  3   \n",
       "3    23  Scientist      19114.12                    NaN                  3   \n",
       "4    23  Scientist      19114.12            1824.843333                  3   \n",
       "\n",
       "   Num_Credit_Card  Interest_Rate Num_of_Loan  Delay_from_due_date  \\\n",
       "0                4              3           4                    3   \n",
       "1                4              3           4                   -1   \n",
       "2                4              3           4                    3   \n",
       "3                4              3           4                    5   \n",
       "4                4              3           4                    6   \n",
       "\n",
       "  Num_of_Delayed_Payment  ... Num_Credit_Inquiries  Credit_Mix  \\\n",
       "0                      7  ...                  4.0           _   \n",
       "1                    NaN  ...                  4.0        Good   \n",
       "2                      7  ...                  4.0        Good   \n",
       "3                      4  ...                  4.0        Good   \n",
       "4                    NaN  ...                  4.0        Good   \n",
       "\n",
       "  Outstanding_Debt Credit_Utilization_Ratio     Credit_History_Age  \\\n",
       "0           809.98                26.822620  22 Years and 1 Months   \n",
       "1           809.98                31.944960                    NaN   \n",
       "2           809.98                28.609352  22 Years and 3 Months   \n",
       "3           809.98                31.377862  22 Years and 4 Months   \n",
       "4           809.98                24.797347  22 Years and 5 Months   \n",
       "\n",
       "  Payment_of_Min_Amount Total_EMI_per_month  Amount_invested_monthly  \\\n",
       "0                    No           49.574949        80.41529543900253   \n",
       "1                    No           49.574949       118.28022162236736   \n",
       "2                    No           49.574949          81.699521264648   \n",
       "3                    No           49.574949        199.4580743910713   \n",
       "4                    No           49.574949       41.420153086217326   \n",
       "\n",
       "      Monthly_Balance Credit_Score  \n",
       "0  312.49408867943663         Good  \n",
       "1  284.62916249607184         Good  \n",
       "2   331.2098628537912         Good  \n",
       "3  223.45130972736786         Good  \n",
       "4  341.48923103222177         Good  \n",
       "\n",
       "[5 rows x 21 columns]"
      ]
     },
     "execution_count": 11,
     "metadata": {},
     "output_type": "execute_result"
    }
   ],
   "source": [
    "df_train.head()"
   ]
  },
  {
   "cell_type": "markdown",
   "id": "969a233d-591d-4b1b-a6ed-19bcf0346d90",
   "metadata": {
    "jp-MarkdownHeadingCollapsed": true
   },
   "source": [
    "## Convert Object-type Numeric Columns"
   ]
  },
  {
   "cell_type": "markdown",
   "id": "168c24ad-80f6-4b08-b8b4-647c8409eb95",
   "metadata": {},
   "source": [
    "Now we'll fix the columns that are stored as object but should be numeric. These likely contain formatting issues (some of which we can see from the table above)."
   ]
  },
  {
   "cell_type": "code",
   "execution_count": 12,
   "id": "12496cf7-3582-49bf-b669-7988b0dbf594",
   "metadata": {},
   "outputs": [],
   "source": [
    "# List of columns that should be numeric but are currently object type\n",
    "numeric_object_cols = [\n",
    "    \"Age\",                        # age in years\n",
    "    \"Annual_Income\",              # yearly income\n",
    "    \"Num_of_Loan\",                # number of loans held\n",
    "    \"Num_of_Delayed_Payment\",     # count of late payments\n",
    "    \"Changed_Credit_Limit\",       # change in credit limit\n",
    "    \"Outstanding_Debt\",           # total debt\n",
    "    \"Amount_invested_monthly\",    # monthly investment amount\n",
    "    \"Monthly_Balance\"             # leftover funds after expenses\n",
    "]\n",
    "\n",
    "# Convert each column to numeric, coercing errors to NaN\n",
    "for col in numeric_object_cols:\n",
    "    df_train[col] = pd.to_numeric(df_train[col], errors='coerce')  # convert strings to numbers, invalid entries become NaN"
   ]
  },
  {
   "cell_type": "code",
   "execution_count": 13,
   "id": "4efb86fa-1e14-472e-ba9f-766a377fb823",
   "metadata": {},
   "outputs": [
    {
     "data": {
      "text/plain": [
       "Age                        4939\n",
       "Annual_Income              6980\n",
       "Num_of_Loan                4785\n",
       "Num_of_Delayed_Payment     9746\n",
       "Changed_Credit_Limit       2091\n",
       "Outstanding_Debt           1009\n",
       "Amount_invested_monthly    8784\n",
       "Monthly_Balance            1209\n",
       "dtype: int64"
      ]
     },
     "execution_count": 13,
     "metadata": {},
     "output_type": "execute_result"
    }
   ],
   "source": [
    "df_train[numeric_object_cols].isna().sum()  # check how many NaNs were introduced"
   ]
  },
  {
   "cell_type": "markdown",
   "id": "400c13b3-638b-482a-b4ea-f0711dd2e223",
   "metadata": {
    "jp-MarkdownHeadingCollapsed": true
   },
   "source": [
    "## Handling Missing Values"
   ]
  },
  {
   "cell_type": "markdown",
   "id": "3d19f4cc-2d54-4641-80de-452c6f3a9da4",
   "metadata": {},
   "source": [
    "We'll fill in missing values based on column type and context:\n",
    "- Numeric columns will be filled using the median\n",
    "- Categorical columns will be filled with mode"
   ]
  },
  {
   "cell_type": "code",
   "execution_count": 14,
   "id": "9d4c1d8d-2359-4646-90b1-746888f1c135",
   "metadata": {},
   "outputs": [],
   "source": [
    "# Fill missing values in numeric columns using the median\n",
    "for col in df_train.select_dtypes(include=[\"float64\", \"int64\"]).columns:\n",
    "    df_train[col] = df_train[col].fillna(df_train[col].median())  # median is robust to outliers"
   ]
  },
  {
   "cell_type": "code",
   "execution_count": 15,
   "id": "a21849cf-134c-4c40-bf5e-70869e0da60f",
   "metadata": {},
   "outputs": [],
   "source": [
    "# Fill missing values in categorical columns using the mode\n",
    "df_train[\"Credit_Mix\"] = df_train[\"Credit_Mix\"].replace(\"_\", np.nan)  # treat \"_\" as missing\n",
    "df_train[\"Credit_Mix\"] = df_train[\"Credit_Mix\"].fillna(df_train[\"Credit_Mix\"].mode()[0])  # fill with most common value\n",
    "df_train[\"Payment_of_Min_Amount\"] = df_train[\"Payment_of_Min_Amount\"].fillna(df_train[\"Payment_of_Min_Amount\"].mode()[0])  # fill with most common value"
   ]
  },
  {
   "cell_type": "code",
   "execution_count": 16,
   "id": "a132ff8c-3f39-4d1d-b9e8-0dc1488864fe",
   "metadata": {
    "scrolled": true
   },
   "outputs": [
    {
     "data": {
      "text/plain": [
       "Credit_History_Age          9030\n",
       "Age                            0\n",
       "Num_Credit_Inquiries           0\n",
       "Monthly_Balance                0\n",
       "Amount_invested_monthly        0\n",
       "Total_EMI_per_month            0\n",
       "Payment_of_Min_Amount          0\n",
       "Credit_Utilization_Ratio       0\n",
       "Outstanding_Debt               0\n",
       "Credit_Mix                     0\n",
       "Changed_Credit_Limit           0\n",
       "Occupation                     0\n",
       "Num_of_Delayed_Payment         0\n",
       "Delay_from_due_date            0\n",
       "Num_of_Loan                    0\n",
       "Interest_Rate                  0\n",
       "Num_Credit_Card                0\n",
       "Num_Bank_Accounts              0\n",
       "Monthly_Inhand_Salary          0\n",
       "Annual_Income                  0\n",
       "Credit_Score                   0\n",
       "dtype: int64"
      ]
     },
     "execution_count": 16,
     "metadata": {},
     "output_type": "execute_result"
    }
   ],
   "source": [
    "df_train.isna().sum().sort_values(ascending=False)  # confirm all missing values are handled"
   ]
  },
  {
   "cell_type": "markdown",
   "id": "2f4e5fb0-3e29-4477-8008-03a491a9f53a",
   "metadata": {},
   "source": [
    "Credit_History_Age slipped through because it’s still in text format, so it wasn’t included in the numeric imputation loop. Let's handle it now as a special case before we start encoding.\n",
    "- We'll convert values into total months, then fill in missing values with the median."
   ]
  },
  {
   "cell_type": "code",
   "execution_count": 17,
   "id": "9085af69-097f-49a0-8c73-37c02c1105eb",
   "metadata": {},
   "outputs": [],
   "source": [
    "# Convert \"X Years and Y Months\" to total months\n",
    "def convert_credit_age(age_str):\n",
    "    try:\n",
    "        parts = age_str.split()\n",
    "        years = int(parts[0])        # extract years\n",
    "        months = int(parts[3])       # extract months\n",
    "        return years * 12 + months   # convert to total months\n",
    "    except:\n",
    "        return np.nan                # return NaN if format is invalid"
   ]
  },
  {
   "cell_type": "code",
   "execution_count": 18,
   "id": "487edc50-afaf-428d-aaf7-2087b5f5f952",
   "metadata": {},
   "outputs": [],
   "source": [
    "# Apply conversion to the column\n",
    "df_train[\"Credit_History_Age\"] = df_train[\"Credit_History_Age\"].apply(convert_credit_age)"
   ]
  },
  {
   "cell_type": "code",
   "execution_count": 19,
   "id": "ecfb4a7d-2ca2-4ab5-8ab9-17a54a7dc41f",
   "metadata": {},
   "outputs": [],
   "source": [
    "# Fill missing values with median\n",
    "df_train[\"Credit_History_Age\"] = df_train[\"Credit_History_Age\"].fillna(df_train[\"Credit_History_Age\"].median())"
   ]
  },
  {
   "cell_type": "code",
   "execution_count": 20,
   "id": "8fb417cb-6217-48ad-9b57-f06bd40af8fa",
   "metadata": {},
   "outputs": [
    {
     "data": {
      "text/plain": [
       "Age                         0\n",
       "Num_Credit_Inquiries        0\n",
       "Monthly_Balance             0\n",
       "Amount_invested_monthly     0\n",
       "Total_EMI_per_month         0\n",
       "Payment_of_Min_Amount       0\n",
       "Credit_History_Age          0\n",
       "Credit_Utilization_Ratio    0\n",
       "Outstanding_Debt            0\n",
       "Credit_Mix                  0\n",
       "Changed_Credit_Limit        0\n",
       "Occupation                  0\n",
       "Num_of_Delayed_Payment      0\n",
       "Delay_from_due_date         0\n",
       "Num_of_Loan                 0\n",
       "Interest_Rate               0\n",
       "Num_Credit_Card             0\n",
       "Num_Bank_Accounts           0\n",
       "Monthly_Inhand_Salary       0\n",
       "Annual_Income               0\n",
       "Credit_Score                0\n",
       "dtype: int64"
      ]
     },
     "execution_count": 20,
     "metadata": {},
     "output_type": "execute_result"
    }
   ],
   "source": [
    "df_train.isna().sum().sort_values(ascending=False)  # confirm all missing values are handled"
   ]
  },
  {
   "cell_type": "code",
   "execution_count": 21,
   "id": "9754f405-0017-4d3a-a13a-1cfa45559a56",
   "metadata": {},
   "outputs": [
    {
     "data": {
      "text/html": [
       "<div>\n",
       "<style scoped>\n",
       "    .dataframe tbody tr th:only-of-type {\n",
       "        vertical-align: middle;\n",
       "    }\n",
       "\n",
       "    .dataframe tbody tr th {\n",
       "        vertical-align: top;\n",
       "    }\n",
       "\n",
       "    .dataframe thead th {\n",
       "        text-align: right;\n",
       "    }\n",
       "</style>\n",
       "<table border=\"1\" class=\"dataframe\">\n",
       "  <thead>\n",
       "    <tr style=\"text-align: right;\">\n",
       "      <th></th>\n",
       "      <th>Age</th>\n",
       "      <th>Occupation</th>\n",
       "      <th>Annual_Income</th>\n",
       "      <th>Monthly_Inhand_Salary</th>\n",
       "      <th>Num_Bank_Accounts</th>\n",
       "      <th>Num_Credit_Card</th>\n",
       "      <th>Interest_Rate</th>\n",
       "      <th>Num_of_Loan</th>\n",
       "      <th>Delay_from_due_date</th>\n",
       "      <th>Num_of_Delayed_Payment</th>\n",
       "      <th>...</th>\n",
       "      <th>Num_Credit_Inquiries</th>\n",
       "      <th>Credit_Mix</th>\n",
       "      <th>Outstanding_Debt</th>\n",
       "      <th>Credit_Utilization_Ratio</th>\n",
       "      <th>Credit_History_Age</th>\n",
       "      <th>Payment_of_Min_Amount</th>\n",
       "      <th>Total_EMI_per_month</th>\n",
       "      <th>Amount_invested_monthly</th>\n",
       "      <th>Monthly_Balance</th>\n",
       "      <th>Credit_Score</th>\n",
       "    </tr>\n",
       "  </thead>\n",
       "  <tbody>\n",
       "    <tr>\n",
       "      <th>0</th>\n",
       "      <td>23.0</td>\n",
       "      <td>Scientist</td>\n",
       "      <td>19114.12</td>\n",
       "      <td>1824.843333</td>\n",
       "      <td>3</td>\n",
       "      <td>4</td>\n",
       "      <td>3</td>\n",
       "      <td>4.0</td>\n",
       "      <td>3</td>\n",
       "      <td>7.0</td>\n",
       "      <td>...</td>\n",
       "      <td>4.0</td>\n",
       "      <td>Standard</td>\n",
       "      <td>809.98</td>\n",
       "      <td>26.822620</td>\n",
       "      <td>265.0</td>\n",
       "      <td>No</td>\n",
       "      <td>49.574949</td>\n",
       "      <td>80.415295</td>\n",
       "      <td>312.494089</td>\n",
       "      <td>Good</td>\n",
       "    </tr>\n",
       "    <tr>\n",
       "      <th>1</th>\n",
       "      <td>23.0</td>\n",
       "      <td>Scientist</td>\n",
       "      <td>19114.12</td>\n",
       "      <td>3093.745000</td>\n",
       "      <td>3</td>\n",
       "      <td>4</td>\n",
       "      <td>3</td>\n",
       "      <td>4.0</td>\n",
       "      <td>-1</td>\n",
       "      <td>14.0</td>\n",
       "      <td>...</td>\n",
       "      <td>4.0</td>\n",
       "      <td>Good</td>\n",
       "      <td>809.98</td>\n",
       "      <td>31.944960</td>\n",
       "      <td>219.0</td>\n",
       "      <td>No</td>\n",
       "      <td>49.574949</td>\n",
       "      <td>118.280222</td>\n",
       "      <td>284.629162</td>\n",
       "      <td>Good</td>\n",
       "    </tr>\n",
       "    <tr>\n",
       "      <th>2</th>\n",
       "      <td>-500.0</td>\n",
       "      <td>Scientist</td>\n",
       "      <td>19114.12</td>\n",
       "      <td>3093.745000</td>\n",
       "      <td>3</td>\n",
       "      <td>4</td>\n",
       "      <td>3</td>\n",
       "      <td>4.0</td>\n",
       "      <td>3</td>\n",
       "      <td>7.0</td>\n",
       "      <td>...</td>\n",
       "      <td>4.0</td>\n",
       "      <td>Good</td>\n",
       "      <td>809.98</td>\n",
       "      <td>28.609352</td>\n",
       "      <td>267.0</td>\n",
       "      <td>No</td>\n",
       "      <td>49.574949</td>\n",
       "      <td>81.699521</td>\n",
       "      <td>331.209863</td>\n",
       "      <td>Good</td>\n",
       "    </tr>\n",
       "    <tr>\n",
       "      <th>3</th>\n",
       "      <td>23.0</td>\n",
       "      <td>Scientist</td>\n",
       "      <td>19114.12</td>\n",
       "      <td>3093.745000</td>\n",
       "      <td>3</td>\n",
       "      <td>4</td>\n",
       "      <td>3</td>\n",
       "      <td>4.0</td>\n",
       "      <td>5</td>\n",
       "      <td>4.0</td>\n",
       "      <td>...</td>\n",
       "      <td>4.0</td>\n",
       "      <td>Good</td>\n",
       "      <td>809.98</td>\n",
       "      <td>31.377862</td>\n",
       "      <td>268.0</td>\n",
       "      <td>No</td>\n",
       "      <td>49.574949</td>\n",
       "      <td>199.458074</td>\n",
       "      <td>223.451310</td>\n",
       "      <td>Good</td>\n",
       "    </tr>\n",
       "    <tr>\n",
       "      <th>4</th>\n",
       "      <td>23.0</td>\n",
       "      <td>Scientist</td>\n",
       "      <td>19114.12</td>\n",
       "      <td>1824.843333</td>\n",
       "      <td>3</td>\n",
       "      <td>4</td>\n",
       "      <td>3</td>\n",
       "      <td>4.0</td>\n",
       "      <td>6</td>\n",
       "      <td>14.0</td>\n",
       "      <td>...</td>\n",
       "      <td>4.0</td>\n",
       "      <td>Good</td>\n",
       "      <td>809.98</td>\n",
       "      <td>24.797347</td>\n",
       "      <td>269.0</td>\n",
       "      <td>No</td>\n",
       "      <td>49.574949</td>\n",
       "      <td>41.420153</td>\n",
       "      <td>341.489231</td>\n",
       "      <td>Good</td>\n",
       "    </tr>\n",
       "  </tbody>\n",
       "</table>\n",
       "<p>5 rows × 21 columns</p>\n",
       "</div>"
      ],
      "text/plain": [
       "     Age Occupation  Annual_Income  Monthly_Inhand_Salary  Num_Bank_Accounts  \\\n",
       "0   23.0  Scientist       19114.12            1824.843333                  3   \n",
       "1   23.0  Scientist       19114.12            3093.745000                  3   \n",
       "2 -500.0  Scientist       19114.12            3093.745000                  3   \n",
       "3   23.0  Scientist       19114.12            3093.745000                  3   \n",
       "4   23.0  Scientist       19114.12            1824.843333                  3   \n",
       "\n",
       "   Num_Credit_Card  Interest_Rate  Num_of_Loan  Delay_from_due_date  \\\n",
       "0                4              3          4.0                    3   \n",
       "1                4              3          4.0                   -1   \n",
       "2                4              3          4.0                    3   \n",
       "3                4              3          4.0                    5   \n",
       "4                4              3          4.0                    6   \n",
       "\n",
       "   Num_of_Delayed_Payment  ...  Num_Credit_Inquiries  Credit_Mix  \\\n",
       "0                     7.0  ...                   4.0    Standard   \n",
       "1                    14.0  ...                   4.0        Good   \n",
       "2                     7.0  ...                   4.0        Good   \n",
       "3                     4.0  ...                   4.0        Good   \n",
       "4                    14.0  ...                   4.0        Good   \n",
       "\n",
       "  Outstanding_Debt  Credit_Utilization_Ratio  Credit_History_Age  \\\n",
       "0           809.98                 26.822620               265.0   \n",
       "1           809.98                 31.944960               219.0   \n",
       "2           809.98                 28.609352               267.0   \n",
       "3           809.98                 31.377862               268.0   \n",
       "4           809.98                 24.797347               269.0   \n",
       "\n",
       "   Payment_of_Min_Amount Total_EMI_per_month  Amount_invested_monthly  \\\n",
       "0                     No           49.574949                80.415295   \n",
       "1                     No           49.574949               118.280222   \n",
       "2                     No           49.574949                81.699521   \n",
       "3                     No           49.574949               199.458074   \n",
       "4                     No           49.574949                41.420153   \n",
       "\n",
       "   Monthly_Balance  Credit_Score  \n",
       "0       312.494089          Good  \n",
       "1       284.629162          Good  \n",
       "2       331.209863          Good  \n",
       "3       223.451310          Good  \n",
       "4       341.489231          Good  \n",
       "\n",
       "[5 rows x 21 columns]"
      ]
     },
     "execution_count": 21,
     "metadata": {},
     "output_type": "execute_result"
    }
   ],
   "source": [
    "df_train.head()"
   ]
  },
  {
   "cell_type": "markdown",
   "id": "10654f7e-5c0f-4063-afc8-3e871499b6ce",
   "metadata": {
    "jp-MarkdownHeadingCollapsed": true
   },
   "source": [
    "## Checkpoint"
   ]
  },
  {
   "cell_type": "markdown",
   "id": "ef68038b-d956-41b4-9b28-a10d54356f9d",
   "metadata": {},
   "source": [
    "Now is a good time to reassess the dataset before we move forward."
   ]
  },
  {
   "cell_type": "code",
   "execution_count": 22,
   "id": "d4618cc9-1a8a-4e28-a897-4f9af8c36c59",
   "metadata": {},
   "outputs": [
    {
     "data": {
      "text/plain": [
       "Age                         float64\n",
       "Occupation                   object\n",
       "Annual_Income               float64\n",
       "Monthly_Inhand_Salary       float64\n",
       "Num_Bank_Accounts             int64\n",
       "Num_Credit_Card               int64\n",
       "Interest_Rate                 int64\n",
       "Num_of_Loan                 float64\n",
       "Delay_from_due_date           int64\n",
       "Num_of_Delayed_Payment      float64\n",
       "Changed_Credit_Limit        float64\n",
       "Num_Credit_Inquiries        float64\n",
       "Credit_Mix                   object\n",
       "Outstanding_Debt            float64\n",
       "Credit_Utilization_Ratio    float64\n",
       "Credit_History_Age          float64\n",
       "Payment_of_Min_Amount        object\n",
       "Total_EMI_per_month         float64\n",
       "Amount_invested_monthly     float64\n",
       "Monthly_Balance             float64\n",
       "Credit_Score                 object\n",
       "dtype: object"
      ]
     },
     "execution_count": 22,
     "metadata": {},
     "output_type": "execute_result"
    }
   ],
   "source": [
    "df_train.dtypes  # shows current types for each column"
   ]
  },
  {
   "cell_type": "code",
   "execution_count": 23,
   "id": "da6e8929-e6de-42f8-8c7f-1d96c8f574dc",
   "metadata": {},
   "outputs": [
    {
     "data": {
      "text/plain": [
       "(100000, 21)"
      ]
     },
     "execution_count": 23,
     "metadata": {},
     "output_type": "execute_result"
    }
   ],
   "source": [
    "df_train.shape  # returns (rows, columns)"
   ]
  },
  {
   "cell_type": "code",
   "execution_count": 24,
   "id": "b54aae38-b83d-4c54-8042-88a6395b635b",
   "metadata": {},
   "outputs": [
    {
     "data": {
      "text/plain": [
       "Age                         0\n",
       "Num_Credit_Inquiries        0\n",
       "Monthly_Balance             0\n",
       "Amount_invested_monthly     0\n",
       "Total_EMI_per_month         0\n",
       "Payment_of_Min_Amount       0\n",
       "Credit_History_Age          0\n",
       "Credit_Utilization_Ratio    0\n",
       "Outstanding_Debt            0\n",
       "Credit_Mix                  0\n",
       "Changed_Credit_Limit        0\n",
       "Occupation                  0\n",
       "Num_of_Delayed_Payment      0\n",
       "Delay_from_due_date         0\n",
       "Num_of_Loan                 0\n",
       "Interest_Rate               0\n",
       "Num_Credit_Card             0\n",
       "Num_Bank_Accounts           0\n",
       "Monthly_Inhand_Salary       0\n",
       "Annual_Income               0\n",
       "Credit_Score                0\n",
       "dtype: int64"
      ]
     },
     "execution_count": 24,
     "metadata": {},
     "output_type": "execute_result"
    }
   ],
   "source": [
    "df_train.isna().sum().sort_values(ascending=False)  # confirm all missing values are handled"
   ]
  },
  {
   "cell_type": "markdown",
   "id": "05fc42cf-ac7a-4fd3-85aa-97f768d6a75d",
   "metadata": {},
   "source": [
    "# Encode Categorical Variables"
   ]
  },
  {
   "cell_type": "markdown",
   "id": "b63a386b-b41a-48c9-b8d7-bc91b060e71d",
   "metadata": {},
   "source": [
    "Here, we'll convert the categorical variables (object dtype) into numeric format for our model."
   ]
  },
  {
   "cell_type": "code",
   "execution_count": 25,
   "id": "ddcce7ba-8f44-4922-ac6d-b9935c544a77",
   "metadata": {},
   "outputs": [
    {
     "name": "stdout",
     "output_type": "stream",
     "text": [
      "Encoded target values: [0 1]\n"
     ]
    }
   ],
   "source": [
    "# Encode 'Credit_Score' as binary classification target\n",
    "# Map 'Poor' to 1 (high risk), and 'Standard'/'Good' to 0 (low risk)\n",
    "df_train['Credit_Score'] = df_train['Credit_Score'].map(\n",
    "    lambda x: 1 if x == 'Poor' else 0\n",
    ")\n",
    "\n",
    "# Confirm encoding\n",
    "print(\"Encoded target values:\", df_train['Credit_Score'].unique())  # should show [0, 1]"
   ]
  },
  {
   "cell_type": "code",
   "execution_count": 26,
   "id": "f7d92bd3-2524-42b8-b466-df0165832105",
   "metadata": {},
   "outputs": [
    {
     "name": "stdout",
     "output_type": "stream",
     "text": [
      "Categorical columns to encode: ['Occupation', 'Credit_Mix', 'Payment_of_Min_Amount']\n"
     ]
    }
   ],
   "source": [
    "# Identify all object-type columns (i.e., categorical features)\n",
    "cat_cols = df_train.select_dtypes(include='object').columns.tolist()\n",
    "\n",
    "# Step 3: Print the final list of categorical columns to encode\n",
    "print(\"Categorical columns to encode:\", cat_cols)"
   ]
  },
  {
   "cell_type": "code",
   "execution_count": 27,
   "id": "d5e7f6cd-d31d-4116-9b17-9b3fe12ef443",
   "metadata": {},
   "outputs": [],
   "source": [
    "# Initialize a dictionary to store encoders for each column\n",
    "encoders = {}\n",
    "\n",
    "# Loop through each categorical feature and apply label encoding\n",
    "for col in cat_cols:\n",
    "    # Create a new LabelEncoder instance\n",
    "    le = LabelEncoder()\n",
    "    \n",
    "    # Fit the encoder to the column and transform the values\n",
    "    df_train[col] = le.fit_transform(df_train[col])\n",
    "    \n",
    "    # Store the encoder for future use (e.g., test data transformation)\n",
    "    encoders[col] = le"
   ]
  },
  {
   "cell_type": "markdown",
   "id": "4ffb0c12-08d4-4c08-9a1e-7d790635c76a",
   "metadata": {},
   "source": [
    "Notice that we're using the LabelEncoder here:\n",
    "- It's fast and simple, converting with minimal overhead.\n",
    "- It keeps the featurespace small\n",
    "- It's very compatible with neural networks\n",
    "- While it does imply an ordinal relationship, we'll be doing a neural network, which doesn't assume linear relationships between encoded values.\n",
    "- The categorical features are mostly nominal, and we’re not relying on ordinal semantics.\n",
    "- We’re keeping the pipeline lean and interpretable — no explosion of columns like with one-hot encoding"
   ]
  },
  {
   "cell_type": "code",
   "execution_count": 28,
   "id": "8e4b54fb-7f76-4597-bfea-310071faec3d",
   "metadata": {},
   "outputs": [
    {
     "name": "stdout",
     "output_type": "stream",
     "text": [
      "Occupation               int32\n",
      "Credit_Mix               int32\n",
      "Payment_of_Min_Amount    int32\n",
      "dtype: object\n",
      "   Occupation  Credit_Mix  Payment_of_Min_Amount\n",
      "0          12           2                      1\n",
      "1          12           1                      1\n",
      "2          12           1                      1\n",
      "3          12           1                      1\n",
      "4          12           1                      1\n"
     ]
    }
   ],
   "source": [
    "# Confirm encoding worked by checking data types\n",
    "print(df_train.dtypes[cat_cols])\n",
    "\n",
    "# Preview the encoded feature values\n",
    "print(df_train[cat_cols].head())"
   ]
  },
  {
   "cell_type": "code",
   "execution_count": 29,
   "id": "f3227ac7-53a7-4d33-8fb0-2231641b546a",
   "metadata": {},
   "outputs": [
    {
     "name": "stdout",
     "output_type": "stream",
     "text": [
      "Occupation: 16 unique values\n",
      "Credit_Mix: 3 unique values\n",
      "Payment_of_Min_Amount: 3 unique values\n"
     ]
    }
   ],
   "source": [
    "for col in ['Occupation', 'Credit_Mix', 'Payment_of_Min_Amount']:\n",
    "    print(f\"{col}: {df_train[col].nunique()} unique values\")"
   ]
  },
  {
   "cell_type": "markdown",
   "id": "1f481045-69be-405b-a959-779650b050c0",
   "metadata": {},
   "source": [
    "Looks like we were successful!"
   ]
  },
  {
   "cell_type": "markdown",
   "id": "79b56c71-989e-4455-a7e1-d559f748779e",
   "metadata": {
    "jp-MarkdownHeadingCollapsed": true
   },
   "source": [
    "# Split the Dataset"
   ]
  },
  {
   "cell_type": "markdown",
   "id": "39cad5b5-8484-48b8-a7c2-4c69132e0247",
   "metadata": {},
   "source": [
    "Next up, we'll split up the dataset into training/validation sets"
   ]
  },
  {
   "cell_type": "code",
   "execution_count": 30,
   "id": "c68395a0-b0a9-4419-ad13-e8b7f0bce97f",
   "metadata": {},
   "outputs": [],
   "source": [
    "# Separate features and target \n",
    "X = df_train.drop(columns=['Credit_Score'])  # all features\n",
    "y = df_train['Credit_Score']                 # binary target (0 or 1)"
   ]
  },
  {
   "cell_type": "code",
   "execution_count": 31,
   "id": "d387b346-d469-43a1-9d22-38b08a2dc397",
   "metadata": {},
   "outputs": [],
   "source": [
    "# Split into training (80%) and validation (20%) sets\n",
    "X_train, X_val, y_train, y_val = train_test_split(\n",
    "    X, y, test_size=0.2, random_state=42, stratify=y  # stratify to preserve class balance\n",
    ")"
   ]
  },
  {
   "cell_type": "code",
   "execution_count": 32,
   "id": "a775e97f-3ae0-4b8c-b99b-4764fe9abae2",
   "metadata": {},
   "outputs": [
    {
     "name": "stdout",
     "output_type": "stream",
     "text": [
      "Training set shape: (80000, 20)\n",
      "Validation set shape: (20000, 20)\n",
      "Training target distribution:\n",
      " Credit_Score\n",
      "0    0.710025\n",
      "1    0.289975\n",
      "Name: proportion, dtype: float64\n",
      "Validation target distribution:\n",
      " Credit_Score\n",
      "0    0.71\n",
      "1    0.29\n",
      "Name: proportion, dtype: float64\n"
     ]
    }
   ],
   "source": [
    "# Confirm the shapes of the splits\n",
    "print(\"Training set shape:\", X_train.shape)\n",
    "print(\"Validation set shape:\", X_val.shape)\n",
    "print(\"Training target distribution:\\n\", y_train.value_counts(normalize=True))\n",
    "print(\"Validation target distribution:\\n\", y_val.value_counts(normalize=True))"
   ]
  },
  {
   "cell_type": "code",
   "execution_count": 33,
   "id": "3965361f-2cd9-401b-8b0e-63a9d8aa93e3",
   "metadata": {},
   "outputs": [
    {
     "name": "stdout",
     "output_type": "stream",
     "text": [
      "Full dataset class balance (%):\n",
      "Credit_Score\n",
      "0    71.002\n",
      "1    28.998\n",
      "Name: proportion, dtype: float64\n"
     ]
    }
   ],
   "source": [
    "# Check class balance in the full dataset\n",
    "print(\"Full dataset class balance (%):\")\n",
    "print(df_train['Credit_Score'].value_counts(normalize=True) * 100)"
   ]
  },
  {
   "cell_type": "markdown",
   "id": "05c11336-1253-49f8-802a-64a22f1df608",
   "metadata": {
    "jp-MarkdownHeadingCollapsed": true
   },
   "source": [
    "# Feature Scaling"
   ]
  },
  {
   "cell_type": "markdown",
   "id": "e039a53e-06af-489b-812c-fecf1da1bbb9",
   "metadata": {},
   "source": [
    "Here, we'll normalize all numeric features so they're on a similar scale. This will help our neural network to converge faster and more reliably."
   ]
  },
  {
   "cell_type": "code",
   "execution_count": 34,
   "id": "ee8e8544-536a-4fcd-a3b1-fa168970045a",
   "metadata": {},
   "outputs": [],
   "source": [
    "# Initialize the scaler\n",
    "scaler = StandardScaler()\n",
    "\n",
    "# Fit and transform the training data in one step\n",
    "X_train_scaled = scaler.fit_transform(X_train)\n",
    "\n",
    "# Transform the validation data using the same scaler\n",
    "X_val_scaled = scaler.transform(X_val)"
   ]
  },
  {
   "cell_type": "code",
   "execution_count": 35,
   "id": "23284859-adb2-40f8-8989-99b5501fc835",
   "metadata": {},
   "outputs": [],
   "source": [
    "# Convert scaled arrays back to DataFrames for readability\n",
    "X_train_scaled = pd.DataFrame(X_train_scaled, columns=X_train.columns, index=X_train.index)\n",
    "X_val_scaled = pd.DataFrame(X_val_scaled, columns=X_val.columns, index=X_val.index)"
   ]
  },
  {
   "cell_type": "markdown",
   "id": "f931d5c9-9bf7-442c-a9d8-5f46da521039",
   "metadata": {
    "jp-MarkdownHeadingCollapsed": true
   },
   "source": [
    "# Export"
   ]
  },
  {
   "cell_type": "code",
   "execution_count": 36,
   "id": "c90cc4ad-3c5f-4c15-bb5e-c1c4fb0742ff",
   "metadata": {},
   "outputs": [],
   "source": [
    "# Save scaled training features to CSV (no index)\n",
    "X_train_scaled.to_csv(\"X_train_scaled.csv\", index=False)\n",
    "\n",
    "# Save scaled validation features to CSV (no index)\n",
    "X_val_scaled.to_csv(\"X_val_scaled.csv\", index=False)\n",
    "\n",
    "# Make sure y_train and y_val are Series with a name\n",
    "y_train.name = \"Credit_Score\"\n",
    "y_val.name = \"Credit_Score\"\n",
    "\n",
    "# Save training target labels (no index)\n",
    "y_train.to_csv(\"y_train.csv\", index=False)\n",
    "\n",
    "# Save validation target labels (no index)\n",
    "y_val.to_csv(\"y_val.csv\", index=False)"
   ]
  },
  {
   "cell_type": "code",
   "execution_count": 39,
   "id": "b774c3e2-4ac8-4602-8f4f-1164369c6356",
   "metadata": {},
   "outputs": [
    {
     "name": "stdout",
     "output_type": "stream",
     "text": [
      "X_train shape: (80000, 20)\n",
      "X_val shape: (20000, 20)\n",
      "y_train shape: (80000,)\n",
      "y_val shape: (20000,)\n"
     ]
    }
   ],
   "source": [
    "# Check Shape\n",
    "print(f\"X_train shape: {X_train_scaled.shape}\")\n",
    "print(f\"X_val shape: {X_val_scaled.shape}\")\n",
    "print(f\"y_train shape: {y_train.shape}\")\n",
    "print(f\"y_val shape: {y_val.shape}\")"
   ]
  },
  {
   "cell_type": "markdown",
   "id": "40f206b2-8da3-4f8e-8451-3e4adc7ff210",
   "metadata": {},
   "source": [
    "We use joblib to serialize the StandardScaler object. This allows us to apply the exact same scaling to future data (e.g., test sets or real-world inputs) without refitting"
   ]
  },
  {
   "cell_type": "code",
   "execution_count": 37,
   "id": "8b348300-5ba6-4118-9c59-d9f42c83190b",
   "metadata": {},
   "outputs": [
    {
     "data": {
      "text/plain": [
       "['standard_scaler.pkl']"
      ]
     },
     "execution_count": 37,
     "metadata": {},
     "output_type": "execute_result"
    }
   ],
   "source": [
    "# Save the fitted scaler for future use (e.g., test data or deployment)\n",
    "import joblib\n",
    "joblib.dump(scaler, \"standard_scaler.pkl\")  # Saves as a binary file"
   ]
  },
  {
   "cell_type": "code",
   "execution_count": 38,
   "id": "d393bb68-b9c8-4430-821b-7439a73dbad8",
   "metadata": {},
   "outputs": [
    {
     "name": "stdout",
     "output_type": "stream",
     "text": [
      "C:\\Users\\barbe\\OneDrive\\URI DS Program\\566 Advanced Topics in Machine Learning\\Project\\neural-credit-risk-explainer\\notebooks\n"
     ]
    }
   ],
   "source": [
    "import os\n",
    "print(os.getcwd())"
   ]
  },
  {
   "cell_type": "code",
   "execution_count": null,
   "id": "972ecdd6-e7a3-47c6-a2a4-d9cb2cf85d10",
   "metadata": {},
   "outputs": [],
   "source": []
  }
 ],
 "metadata": {
  "kernelspec": {
   "display_name": "Python 3 (ipykernel)",
   "language": "python",
   "name": "python3"
  },
  "language_info": {
   "codemirror_mode": {
    "name": "ipython",
    "version": 3
   },
   "file_extension": ".py",
   "mimetype": "text/x-python",
   "name": "python",
   "nbconvert_exporter": "python",
   "pygments_lexer": "ipython3",
   "version": "3.11.13"
  }
 },
 "nbformat": 4,
 "nbformat_minor": 5
}
